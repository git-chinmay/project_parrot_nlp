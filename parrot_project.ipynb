{
 "cells": [
  {
   "cell_type": "code",
   "execution_count": 1,
   "id": "188faa95",
   "metadata": {},
   "outputs": [],
   "source": [
    "import torch"
   ]
  },
  {
   "cell_type": "code",
   "execution_count": 2,
   "id": "fe69560b",
   "metadata": {},
   "outputs": [
    {
     "name": "stdout",
     "output_type": "stream",
     "text": [
      "tensor([[0.8265, 0.7501, 0.3707],\n",
      "        [0.9572, 0.9599, 0.2233],\n",
      "        [0.5262, 0.9550, 0.4024]])\n"
     ]
    }
   ],
   "source": [
    "x = torch.rand(3, 3)\n",
    "print(x)"
   ]
  },
  {
   "cell_type": "code",
   "execution_count": null,
   "id": "810e28ce",
   "metadata": {},
   "outputs": [],
   "source": [
    "#!pip install git+https://github.com/PrithivirajDamodaran/Parrot_Paraphraser.git"
   ]
  },
  {
   "cell_type": "code",
   "execution_count": null,
   "id": "6be1adc8",
   "metadata": {},
   "outputs": [],
   "source": [
    "#!pip install pandas"
   ]
  },
  {
   "cell_type": "code",
   "execution_count": 1,
   "id": "37721c0d",
   "metadata": {},
   "outputs": [],
   "source": [
    "from parrot import Parrot\n",
    "import torch\n",
    "import warnings\n",
    "warnings.filterwarnings(\"ignore\")"
   ]
  },
  {
   "cell_type": "code",
   "execution_count": 2,
   "id": "431b165d",
   "metadata": {},
   "outputs": [],
   "source": [
    "#Init models (make sure you init ONLY once if you integrate this to your code)\n",
    "parrot = Parrot(model_tag=\"prithivida/parrot_paraphraser_on_T5\", use_gpu=False)"
   ]
  },
  {
   "cell_type": "code",
   "execution_count": 3,
   "id": "851ca114",
   "metadata": {},
   "outputs": [],
   "source": [
    "phrases = [\"Can you recommed some upscale restaurants in Newyork?\",\n",
    "           \"What are the famous places we should not miss in Russia?\"\n",
    "]"
   ]
  },
  {
   "cell_type": "code",
   "execution_count": null,
   "id": "4f7619b2",
   "metadata": {},
   "outputs": [],
   "source": [
    "for phrase in phrases:\n",
    "    print(\"-\"*100)\n",
    "    print()\n",
    "    print(\"Input_phrase: \", phrase)\n",
    "    print()\n",
    "    print(\"-\"*100)\n",
    "    para_phrases = parrot.augment(input_phrase=phrase)\n",
    "    for para_phrase in para_phrases:\n",
    "        print()\n",
    "        print(para_phrase)\n",
    "        print()"
   ]
  }
 ],
 "metadata": {
  "kernelspec": {
   "display_name": "Python 3.10.6 ('vnv': venv)",
   "language": "python",
   "name": "python3"
  },
  "language_info": {
   "codemirror_mode": {
    "name": "ipython",
    "version": 3
   },
   "file_extension": ".py",
   "mimetype": "text/x-python",
   "name": "python",
   "nbconvert_exporter": "python",
   "pygments_lexer": "ipython3",
   "version": "3.10.6"
  },
  "vscode": {
   "interpreter": {
    "hash": "4e1f3842cf87cceed8f99c2fb0129542c266551624b87f337ad2254c1270470e"
   }
  }
 },
 "nbformat": 4,
 "nbformat_minor": 5
}
